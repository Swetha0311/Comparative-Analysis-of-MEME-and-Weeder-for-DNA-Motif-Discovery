{
 "cells": [
  {
   "cell_type": "code",
   "execution_count": null,
   "id": "fe604dca",
   "metadata": {},
   "outputs": [],
   "source": [
    "import os"
   ]
  },
  {
   "cell_type": "code",
   "execution_count": null,
   "id": "06659ac2",
   "metadata": {},
   "outputs": [],
   "source": [
    "# Set the input and output folder paths\n",
    "input_folder = \"/Users/swethayadavalli/Downloads/jaspar\"\n",
    "output_folder = \"/Users/swethayadavalli/Downloads/jaspar_fixed\""
   ]
  },
  {
   "cell_type": "code",
   "execution_count": null,
   "id": "c1995584",
   "metadata": {},
   "outputs": [],
   "source": [
    "# Ensure the output folder exists\n",
    "os.makedirs(output_folder, exist_ok=True)"
   ]
  },
  {
   "cell_type": "code",
   "execution_count": null,
   "id": "34a4f33e",
   "metadata": {},
   "outputs": [],
   "source": [
    "# Loop through all files in the input folder\n",
    "for filename in os.listdir(input_folder):\n",
    "  if filename.endswith(\".fa\"): # Process only files with .fa extension\n",
    "   input_file = os.path.join(input_folder, filename)\n",
    "   output_file = os.path.join(output_folder, filename.replace(\".fa\", \"_fixed.fa\"))"
   ]
  },
  {
   "cell_type": "code",
   "execution_count": null,
   "id": "9873ba85",
   "metadata": {},
   "outputs": [],
   "source": [
    "# Process the file\n",
    "with open(input_file, \"r\") as infile, open(output_file, \"w\") as outfile:\n",
    " count = 1\n",
    " for line in infile:\n",
    "   if line.startswith(\">\"):\n",
    "       outfile.write(f\">{os.path.splitext(filename)[0]}_{count}\\n\")\n",
    "       count += 1\n",
    "   else:\n",
    "     outfile.write(line)\n",
    "\n",
    "print(\"Processing complete. Fixed files are saved in:\", output_folder)"
   ]
  }
 ],
 "metadata": {
  "kernelspec": {
   "display_name": "Python 3 (ipykernel)",
   "language": "python",
   "name": "python3"
  },
  "language_info": {
   "codemirror_mode": {
    "name": "ipython",
    "version": 3
   },
   "file_extension": ".py",
   "mimetype": "text/x-python",
   "name": "python",
   "nbconvert_exporter": "python",
   "pygments_lexer": "ipython3",
   "version": "3.9.16"
  }
 },
 "nbformat": 4,
 "nbformat_minor": 5
}
